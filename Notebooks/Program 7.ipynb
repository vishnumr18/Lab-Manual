{
 "cells": [
  {
   "cell_type": "markdown",
   "metadata": {},
   "source": [
    "## Develop a program to demonstrate the working of Linear Regression and Polynomial Regression. Use Boston Housing Dataset for Linear Regression and Auto MPG Dataset (for vehicle fuel efficiency prediction) for Polynomial Regression."
   ]
  },
  {
   "cell_type": "markdown",
   "metadata": {},
   "source": [
    "### 1. Linear Regression"
   ]
  },
  {
   "cell_type": "markdown",
   "metadata": {},
   "source": [
    "#### 1.1 Imporing Dependencies"
   ]
  },
  {
   "cell_type": "code",
   "execution_count": 2,
   "metadata": {},
   "outputs": [],
   "source": [
    "# Importing general dependencies \n",
    "import pandas as pd\n",
    "import numpy as np\n",
    "import matplotlib.pyplot as plt\n",
    "\n",
    "# Importing sk-learn dependencies \n",
    "from sklearn.linear_model import LinearRegression\n",
    "from sklearn.preprocessing import StandardScaler, PolynomialFeatures, LabelEncoder\n",
    "from sklearn.model_selection import train_test_split\n",
    "from sklearn.metrics import mean_squared_error, r2_score\n",
    "from sklearn.datasets import fetch_openml"
   ]
  },
  {
   "cell_type": "markdown",
   "metadata": {},
   "source": [
    "### 1.2 Importing Data"
   ]
  },
  {
   "cell_type": "code",
   "execution_count": 3,
   "metadata": {},
   "outputs": [
    {
     "data": {
      "text/plain": [
       "{'data':         CRIM    ZN  INDUS CHAS    NOX     RM   AGE     DIS RAD    TAX  \\\n",
       " 0    0.00632  18.0   2.31    0  0.538  6.575  65.2  4.0900   1  296.0   \n",
       " 1    0.02731   0.0   7.07    0  0.469  6.421  78.9  4.9671   2  242.0   \n",
       " 2    0.02729   0.0   7.07    0  0.469  7.185  61.1  4.9671   2  242.0   \n",
       " 3    0.03237   0.0   2.18    0  0.458  6.998  45.8  6.0622   3  222.0   \n",
       " 4    0.06905   0.0   2.18    0  0.458  7.147  54.2  6.0622   3  222.0   \n",
       " ..       ...   ...    ...  ...    ...    ...   ...     ...  ..    ...   \n",
       " 501  0.06263   0.0  11.93    0  0.573  6.593  69.1  2.4786   1  273.0   \n",
       " 502  0.04527   0.0  11.93    0  0.573  6.120  76.7  2.2875   1  273.0   \n",
       " 503  0.06076   0.0  11.93    0  0.573  6.976  91.0  2.1675   1  273.0   \n",
       " 504  0.10959   0.0  11.93    0  0.573  6.794  89.3  2.3889   1  273.0   \n",
       " 505  0.04741   0.0  11.93    0  0.573  6.030  80.8  2.5050   1  273.0   \n",
       " \n",
       "      PTRATIO       B  LSTAT  \n",
       " 0       15.3  396.90   4.98  \n",
       " 1       17.8  396.90   9.14  \n",
       " 2       17.8  392.83   4.03  \n",
       " 3       18.7  394.63   2.94  \n",
       " 4       18.7  396.90   5.33  \n",
       " ..       ...     ...    ...  \n",
       " 501     21.0  391.99   9.67  \n",
       " 502     21.0  396.90   9.08  \n",
       " 503     21.0  396.90   5.64  \n",
       " 504     21.0  393.45   6.48  \n",
       " 505     21.0  396.90   7.88  \n",
       " \n",
       " [506 rows x 13 columns],\n",
       " 'target': 0      24.0\n",
       " 1      21.6\n",
       " 2      34.7\n",
       " 3      33.4\n",
       " 4      36.2\n",
       "        ... \n",
       " 501    22.4\n",
       " 502    20.6\n",
       " 503    23.9\n",
       " 504    22.0\n",
       " 505    11.9\n",
       " Name: MEDV, Length: 506, dtype: float64,\n",
       " 'frame':         CRIM    ZN  INDUS CHAS    NOX     RM   AGE     DIS RAD    TAX  \\\n",
       " 0    0.00632  18.0   2.31    0  0.538  6.575  65.2  4.0900   1  296.0   \n",
       " 1    0.02731   0.0   7.07    0  0.469  6.421  78.9  4.9671   2  242.0   \n",
       " 2    0.02729   0.0   7.07    0  0.469  7.185  61.1  4.9671   2  242.0   \n",
       " 3    0.03237   0.0   2.18    0  0.458  6.998  45.8  6.0622   3  222.0   \n",
       " 4    0.06905   0.0   2.18    0  0.458  7.147  54.2  6.0622   3  222.0   \n",
       " ..       ...   ...    ...  ...    ...    ...   ...     ...  ..    ...   \n",
       " 501  0.06263   0.0  11.93    0  0.573  6.593  69.1  2.4786   1  273.0   \n",
       " 502  0.04527   0.0  11.93    0  0.573  6.120  76.7  2.2875   1  273.0   \n",
       " 503  0.06076   0.0  11.93    0  0.573  6.976  91.0  2.1675   1  273.0   \n",
       " 504  0.10959   0.0  11.93    0  0.573  6.794  89.3  2.3889   1  273.0   \n",
       " 505  0.04741   0.0  11.93    0  0.573  6.030  80.8  2.5050   1  273.0   \n",
       " \n",
       "      PTRATIO       B  LSTAT  MEDV  \n",
       " 0       15.3  396.90   4.98  24.0  \n",
       " 1       17.8  396.90   9.14  21.6  \n",
       " 2       17.8  392.83   4.03  34.7  \n",
       " 3       18.7  394.63   2.94  33.4  \n",
       " 4       18.7  396.90   5.33  36.2  \n",
       " ..       ...     ...    ...   ...  \n",
       " 501     21.0  391.99   9.67  22.4  \n",
       " 502     21.0  396.90   9.08  20.6  \n",
       " 503     21.0  396.90   5.64  23.9  \n",
       " 504     21.0  393.45   6.48  22.0  \n",
       " 505     21.0  396.90   7.88  11.9  \n",
       " \n",
       " [506 rows x 14 columns],\n",
       " 'categories': None,\n",
       " 'feature_names': ['CRIM',\n",
       "  'ZN',\n",
       "  'INDUS',\n",
       "  'CHAS',\n",
       "  'NOX',\n",
       "  'RM',\n",
       "  'AGE',\n",
       "  'DIS',\n",
       "  'RAD',\n",
       "  'TAX',\n",
       "  'PTRATIO',\n",
       "  'B',\n",
       "  'LSTAT'],\n",
       " 'target_names': ['MEDV'],\n",
       " 'DESCR': \"**Author**:   \\n**Source**: Unknown - Date unknown  \\n**Please cite**:   \\n\\nThe Boston house-price data of Harrison, D. and Rubinfeld, D.L. 'Hedonic\\nprices and the demand for clean air', J. Environ. Economics & Management,\\nvol.5, 81-102, 1978.   Used in Belsley, Kuh & Welsch, 'Regression diagnostics\\n...', Wiley, 1980.   N.B. Various transformations are used in the table on\\npages 244-261 of the latter.\\nVariables in order:\\nCRIM     per capita crime rate by town\\nZN       proportion of residential land zoned for lots over 25,000 sq.ft.\\nINDUS    proportion of non-retail business acres per town\\nCHAS     Charles River dummy variable (= 1 if tract bounds river; 0 otherwise)\\nNOX      nitric oxides concentration (parts per 10 million)\\nRM       average number of rooms per dwelling\\nAGE      proportion of owner-occupied units built prior to 1940\\nDIS      weighted distances to five Boston employment centres\\nRAD      index of accessibility to radial highways\\nTAX      full-value property-tax rate per $10,000\\nPTRATIO  pupil-teacher ratio by town\\nB        1000(Bk - 0.63)^2 where Bk is the proportion of blacks by town\\nLSTAT    % lower status of the population\\nMEDV     Median value of owner-occupied homes in $1000's\\n\\n\\nInformation about the dataset\\nCLASSTYPE: numeric\\nCLASSINDEX: last\\n\\nDownloaded from openml.org.\",\n",
       " 'details': {'id': '531',\n",
       "  'name': 'boston',\n",
       "  'version': '1',\n",
       "  'description_version': '1',\n",
       "  'format': 'ARFF',\n",
       "  'creator': ['D. and Rubinfeld', \"D.L. 'Hedonic\"],\n",
       "  'collection_date': '1978',\n",
       "  'upload_date': '2014-09-29T00:08:07',\n",
       "  'language': 'English',\n",
       "  'licence': 'Public',\n",
       "  'url': 'https://api.openml.org/data/v1/download/52643/boston.arff',\n",
       "  'parquet_url': 'https://data.openml.org/datasets/0000/0531/dataset_531.pq',\n",
       "  'file_id': '52643',\n",
       "  'default_target_attribute': 'MEDV',\n",
       "  'tag': ['Data Science',\n",
       "   'Housing Economics',\n",
       "   'Kaggle',\n",
       "   'OpenML-Reg19',\n",
       "   'study_130',\n",
       "   'Urban Studies'],\n",
       "  'visibility': 'public',\n",
       "  'minio_url': 'https://data.openml.org/datasets/0000/0531/dataset_531.pq',\n",
       "  'status': 'active',\n",
       "  'processing_date': '2020-11-20 20:16:37',\n",
       "  'md5_checksum': 'cdd361fb886627eaa80c92f90d0610cc'},\n",
       " 'url': 'https://www.openml.org/d/531'}"
      ]
     },
     "execution_count": 3,
     "metadata": {},
     "output_type": "execute_result"
    }
   ],
   "source": [
    "data = fetch_openml(name=\"boston\", version=1, as_frame=True)\n",
    "data"
   ]
  },
  {
   "cell_type": "code",
   "execution_count": 4,
   "metadata": {},
   "outputs": [
    {
     "data": {
      "text/html": [
       "<div>\n",
       "<style scoped>\n",
       "    .dataframe tbody tr th:only-of-type {\n",
       "        vertical-align: middle;\n",
       "    }\n",
       "\n",
       "    .dataframe tbody tr th {\n",
       "        vertical-align: top;\n",
       "    }\n",
       "\n",
       "    .dataframe thead th {\n",
       "        text-align: right;\n",
       "    }\n",
       "</style>\n",
       "<table border=\"1\" class=\"dataframe\">\n",
       "  <thead>\n",
       "    <tr style=\"text-align: right;\">\n",
       "      <th></th>\n",
       "      <th>CRIM</th>\n",
       "      <th>ZN</th>\n",
       "      <th>INDUS</th>\n",
       "      <th>CHAS</th>\n",
       "      <th>NOX</th>\n",
       "      <th>RM</th>\n",
       "      <th>AGE</th>\n",
       "      <th>DIS</th>\n",
       "      <th>RAD</th>\n",
       "      <th>TAX</th>\n",
       "      <th>PTRATIO</th>\n",
       "      <th>B</th>\n",
       "      <th>LSTAT</th>\n",
       "      <th>TARGET</th>\n",
       "    </tr>\n",
       "  </thead>\n",
       "  <tbody>\n",
       "    <tr>\n",
       "      <th>0</th>\n",
       "      <td>0.00632</td>\n",
       "      <td>18.0</td>\n",
       "      <td>2.31</td>\n",
       "      <td>0</td>\n",
       "      <td>0.538</td>\n",
       "      <td>6.575</td>\n",
       "      <td>65.2</td>\n",
       "      <td>4.0900</td>\n",
       "      <td>1</td>\n",
       "      <td>296.0</td>\n",
       "      <td>15.3</td>\n",
       "      <td>396.90</td>\n",
       "      <td>4.98</td>\n",
       "      <td>24.0</td>\n",
       "    </tr>\n",
       "    <tr>\n",
       "      <th>1</th>\n",
       "      <td>0.02731</td>\n",
       "      <td>0.0</td>\n",
       "      <td>7.07</td>\n",
       "      <td>0</td>\n",
       "      <td>0.469</td>\n",
       "      <td>6.421</td>\n",
       "      <td>78.9</td>\n",
       "      <td>4.9671</td>\n",
       "      <td>2</td>\n",
       "      <td>242.0</td>\n",
       "      <td>17.8</td>\n",
       "      <td>396.90</td>\n",
       "      <td>9.14</td>\n",
       "      <td>21.6</td>\n",
       "    </tr>\n",
       "    <tr>\n",
       "      <th>2</th>\n",
       "      <td>0.02729</td>\n",
       "      <td>0.0</td>\n",
       "      <td>7.07</td>\n",
       "      <td>0</td>\n",
       "      <td>0.469</td>\n",
       "      <td>7.185</td>\n",
       "      <td>61.1</td>\n",
       "      <td>4.9671</td>\n",
       "      <td>2</td>\n",
       "      <td>242.0</td>\n",
       "      <td>17.8</td>\n",
       "      <td>392.83</td>\n",
       "      <td>4.03</td>\n",
       "      <td>34.7</td>\n",
       "    </tr>\n",
       "    <tr>\n",
       "      <th>3</th>\n",
       "      <td>0.03237</td>\n",
       "      <td>0.0</td>\n",
       "      <td>2.18</td>\n",
       "      <td>0</td>\n",
       "      <td>0.458</td>\n",
       "      <td>6.998</td>\n",
       "      <td>45.8</td>\n",
       "      <td>6.0622</td>\n",
       "      <td>3</td>\n",
       "      <td>222.0</td>\n",
       "      <td>18.7</td>\n",
       "      <td>394.63</td>\n",
       "      <td>2.94</td>\n",
       "      <td>33.4</td>\n",
       "    </tr>\n",
       "    <tr>\n",
       "      <th>4</th>\n",
       "      <td>0.06905</td>\n",
       "      <td>0.0</td>\n",
       "      <td>2.18</td>\n",
       "      <td>0</td>\n",
       "      <td>0.458</td>\n",
       "      <td>7.147</td>\n",
       "      <td>54.2</td>\n",
       "      <td>6.0622</td>\n",
       "      <td>3</td>\n",
       "      <td>222.0</td>\n",
       "      <td>18.7</td>\n",
       "      <td>396.90</td>\n",
       "      <td>5.33</td>\n",
       "      <td>36.2</td>\n",
       "    </tr>\n",
       "    <tr>\n",
       "      <th>...</th>\n",
       "      <td>...</td>\n",
       "      <td>...</td>\n",
       "      <td>...</td>\n",
       "      <td>...</td>\n",
       "      <td>...</td>\n",
       "      <td>...</td>\n",
       "      <td>...</td>\n",
       "      <td>...</td>\n",
       "      <td>...</td>\n",
       "      <td>...</td>\n",
       "      <td>...</td>\n",
       "      <td>...</td>\n",
       "      <td>...</td>\n",
       "      <td>...</td>\n",
       "    </tr>\n",
       "    <tr>\n",
       "      <th>501</th>\n",
       "      <td>0.06263</td>\n",
       "      <td>0.0</td>\n",
       "      <td>11.93</td>\n",
       "      <td>0</td>\n",
       "      <td>0.573</td>\n",
       "      <td>6.593</td>\n",
       "      <td>69.1</td>\n",
       "      <td>2.4786</td>\n",
       "      <td>1</td>\n",
       "      <td>273.0</td>\n",
       "      <td>21.0</td>\n",
       "      <td>391.99</td>\n",
       "      <td>9.67</td>\n",
       "      <td>22.4</td>\n",
       "    </tr>\n",
       "    <tr>\n",
       "      <th>502</th>\n",
       "      <td>0.04527</td>\n",
       "      <td>0.0</td>\n",
       "      <td>11.93</td>\n",
       "      <td>0</td>\n",
       "      <td>0.573</td>\n",
       "      <td>6.120</td>\n",
       "      <td>76.7</td>\n",
       "      <td>2.2875</td>\n",
       "      <td>1</td>\n",
       "      <td>273.0</td>\n",
       "      <td>21.0</td>\n",
       "      <td>396.90</td>\n",
       "      <td>9.08</td>\n",
       "      <td>20.6</td>\n",
       "    </tr>\n",
       "    <tr>\n",
       "      <th>503</th>\n",
       "      <td>0.06076</td>\n",
       "      <td>0.0</td>\n",
       "      <td>11.93</td>\n",
       "      <td>0</td>\n",
       "      <td>0.573</td>\n",
       "      <td>6.976</td>\n",
       "      <td>91.0</td>\n",
       "      <td>2.1675</td>\n",
       "      <td>1</td>\n",
       "      <td>273.0</td>\n",
       "      <td>21.0</td>\n",
       "      <td>396.90</td>\n",
       "      <td>5.64</td>\n",
       "      <td>23.9</td>\n",
       "    </tr>\n",
       "    <tr>\n",
       "      <th>504</th>\n",
       "      <td>0.10959</td>\n",
       "      <td>0.0</td>\n",
       "      <td>11.93</td>\n",
       "      <td>0</td>\n",
       "      <td>0.573</td>\n",
       "      <td>6.794</td>\n",
       "      <td>89.3</td>\n",
       "      <td>2.3889</td>\n",
       "      <td>1</td>\n",
       "      <td>273.0</td>\n",
       "      <td>21.0</td>\n",
       "      <td>393.45</td>\n",
       "      <td>6.48</td>\n",
       "      <td>22.0</td>\n",
       "    </tr>\n",
       "    <tr>\n",
       "      <th>505</th>\n",
       "      <td>0.04741</td>\n",
       "      <td>0.0</td>\n",
       "      <td>11.93</td>\n",
       "      <td>0</td>\n",
       "      <td>0.573</td>\n",
       "      <td>6.030</td>\n",
       "      <td>80.8</td>\n",
       "      <td>2.5050</td>\n",
       "      <td>1</td>\n",
       "      <td>273.0</td>\n",
       "      <td>21.0</td>\n",
       "      <td>396.90</td>\n",
       "      <td>7.88</td>\n",
       "      <td>11.9</td>\n",
       "    </tr>\n",
       "  </tbody>\n",
       "</table>\n",
       "<p>506 rows × 14 columns</p>\n",
       "</div>"
      ],
      "text/plain": [
       "        CRIM    ZN  INDUS CHAS    NOX     RM   AGE     DIS RAD    TAX  \\\n",
       "0    0.00632  18.0   2.31    0  0.538  6.575  65.2  4.0900   1  296.0   \n",
       "1    0.02731   0.0   7.07    0  0.469  6.421  78.9  4.9671   2  242.0   \n",
       "2    0.02729   0.0   7.07    0  0.469  7.185  61.1  4.9671   2  242.0   \n",
       "3    0.03237   0.0   2.18    0  0.458  6.998  45.8  6.0622   3  222.0   \n",
       "4    0.06905   0.0   2.18    0  0.458  7.147  54.2  6.0622   3  222.0   \n",
       "..       ...   ...    ...  ...    ...    ...   ...     ...  ..    ...   \n",
       "501  0.06263   0.0  11.93    0  0.573  6.593  69.1  2.4786   1  273.0   \n",
       "502  0.04527   0.0  11.93    0  0.573  6.120  76.7  2.2875   1  273.0   \n",
       "503  0.06076   0.0  11.93    0  0.573  6.976  91.0  2.1675   1  273.0   \n",
       "504  0.10959   0.0  11.93    0  0.573  6.794  89.3  2.3889   1  273.0   \n",
       "505  0.04741   0.0  11.93    0  0.573  6.030  80.8  2.5050   1  273.0   \n",
       "\n",
       "     PTRATIO       B  LSTAT  TARGET  \n",
       "0       15.3  396.90   4.98    24.0  \n",
       "1       17.8  396.90   9.14    21.6  \n",
       "2       17.8  392.83   4.03    34.7  \n",
       "3       18.7  394.63   2.94    33.4  \n",
       "4       18.7  396.90   5.33    36.2  \n",
       "..       ...     ...    ...     ...  \n",
       "501     21.0  391.99   9.67    22.4  \n",
       "502     21.0  396.90   9.08    20.6  \n",
       "503     21.0  396.90   5.64    23.9  \n",
       "504     21.0  393.45   6.48    22.0  \n",
       "505     21.0  396.90   7.88    11.9  \n",
       "\n",
       "[506 rows x 14 columns]"
      ]
     },
     "execution_count": 4,
     "metadata": {},
     "output_type": "execute_result"
    }
   ],
   "source": [
    "df = pd.DataFrame(data.data, columns=data.feature_names)\n",
    "df['TARGET'] = data.target\n",
    "df"
   ]
  },
  {
   "cell_type": "code",
   "execution_count": 5,
   "metadata": {},
   "outputs": [
    {
     "name": "stdout",
     "output_type": "stream",
     "text": [
      "**Author**:   \n",
      "**Source**: Unknown - Date unknown  \n",
      "**Please cite**:   \n",
      "\n",
      "The Boston house-price data of Harrison, D. and Rubinfeld, D.L. 'Hedonic\n",
      "prices and the demand for clean air', J. Environ. Economics & Management,\n",
      "vol.5, 81-102, 1978.   Used in Belsley, Kuh & Welsch, 'Regression diagnostics\n",
      "...', Wiley, 1980.   N.B. Various transformations are used in the table on\n",
      "pages 244-261 of the latter.\n",
      "Variables in order:\n",
      "CRIM     per capita crime rate by town\n",
      "ZN       proportion of residential land zoned for lots over 25,000 sq.ft.\n",
      "INDUS    proportion of non-retail business acres per town\n",
      "CHAS     Charles River dummy variable (= 1 if tract bounds river; 0 otherwise)\n",
      "NOX      nitric oxides concentration (parts per 10 million)\n",
      "RM       average number of rooms per dwelling\n",
      "AGE      proportion of owner-occupied units built prior to 1940\n",
      "DIS      weighted distances to five Boston employment centres\n",
      "RAD      index of accessibility to radial highways\n",
      "TAX      full-value property-tax rate per $10,000\n",
      "PTRATIO  pupil-teacher ratio by town\n",
      "B        1000(Bk - 0.63)^2 where Bk is the proportion of blacks by town\n",
      "LSTAT    % lower status of the population\n",
      "MEDV     Median value of owner-occupied homes in $1000's\n",
      "\n",
      "\n",
      "Information about the dataset\n",
      "CLASSTYPE: numeric\n",
      "CLASSINDEX: last\n",
      "\n",
      "Downloaded from openml.org.\n"
     ]
    }
   ],
   "source": [
    "print(data.DESCR)"
   ]
  },
  {
   "cell_type": "markdown",
   "metadata": {},
   "source": [
    "### 1.3 Preparing Train Test Split (Preprocessing the data)"
   ]
  },
  {
   "cell_type": "code",
   "execution_count": 6,
   "metadata": {},
   "outputs": [],
   "source": [
    "# Saperating the Depndent(y) and independent vatiables(X) (Columns)\n",
    "X = df.drop(columns=['TARGET'])\n",
    "y = df['TARGET']"
   ]
  },
  {
   "cell_type": "code",
   "execution_count": 7,
   "metadata": {},
   "outputs": [
    {
     "name": "stdout",
     "output_type": "stream",
     "text": [
      "<class 'pandas.core.frame.DataFrame'>\n",
      "RangeIndex: 506 entries, 0 to 505\n",
      "Data columns (total 14 columns):\n",
      " #   Column   Non-Null Count  Dtype   \n",
      "---  ------   --------------  -----   \n",
      " 0   CRIM     506 non-null    float64 \n",
      " 1   ZN       506 non-null    float64 \n",
      " 2   INDUS    506 non-null    float64 \n",
      " 3   CHAS     506 non-null    category\n",
      " 4   NOX      506 non-null    float64 \n",
      " 5   RM       506 non-null    float64 \n",
      " 6   AGE      506 non-null    float64 \n",
      " 7   DIS      506 non-null    float64 \n",
      " 8   RAD      506 non-null    category\n",
      " 9   TAX      506 non-null    float64 \n",
      " 10  PTRATIO  506 non-null    float64 \n",
      " 11  B        506 non-null    float64 \n",
      " 12  LSTAT    506 non-null    float64 \n",
      " 13  TARGET   506 non-null    float64 \n",
      "dtypes: category(2), float64(12)\n",
      "memory usage: 49.0 KB\n"
     ]
    }
   ],
   "source": [
    "df.info()"
   ]
  },
  {
   "cell_type": "code",
   "execution_count": 8,
   "metadata": {},
   "outputs": [],
   "source": [
    "# Converting the vallues into numerical type \\\n",
    "X = X.apply(pd.to_numeric, errors='coerce')\n",
    "\n",
    "# Handle missing values\n",
    "X.fillna(X.mean(), inplace=True)"
   ]
  },
  {
   "cell_type": "code",
   "execution_count": 9,
   "metadata": {},
   "outputs": [],
   "source": [
    "# Splitting \n",
    "X_train, X_test, y_train, y_test = train_test_split(X, y, test_size=.3, random_state=42)"
   ]
  },
  {
   "cell_type": "code",
   "execution_count": 10,
   "metadata": {},
   "outputs": [
    {
     "data": {
      "text/plain": [
       "((354, 13), (152, 13))"
      ]
     },
     "execution_count": 10,
     "metadata": {},
     "output_type": "execute_result"
    }
   ],
   "source": [
    "# Checking the shape to independent variables\n",
    "X_train.shape, X_test.shape"
   ]
  },
  {
   "cell_type": "code",
   "execution_count": 11,
   "metadata": {},
   "outputs": [
    {
     "data": {
      "text/plain": [
       "((354,), (152,))"
      ]
     },
     "execution_count": 11,
     "metadata": {},
     "output_type": "execute_result"
    }
   ],
   "source": [
    "# Checking the shape to dependent \n",
    "y_train.shape, y_test.shape"
   ]
  },
  {
   "cell_type": "markdown",
   "metadata": {},
   "source": [
    "### 1.4 Training the model"
   ]
  },
  {
   "cell_type": "code",
   "execution_count": 12,
   "metadata": {},
   "outputs": [],
   "source": [
    "# Instantiating model\n",
    "model = LinearRegression()\n",
    "\n",
    "# Training the model\n",
    "model.fit(X_train, y_train)\n",
    "\n",
    "# Making Predicting (Testing)\n",
    "y_pred = model.predict(X_test)"
   ]
  },
  {
   "cell_type": "code",
   "execution_count": 24,
   "metadata": {},
   "outputs": [
    {
     "data": {
      "text/plain": [
       "(152, 152)"
      ]
     },
     "execution_count": 24,
     "metadata": {},
     "output_type": "execute_result"
    }
   ],
   "source": [
    "len(y_pred), len(X_test)"
   ]
  },
  {
   "cell_type": "code",
   "execution_count": 21,
   "metadata": {},
   "outputs": [
    {
     "data": {
      "text/plain": [
       "13"
      ]
     },
     "execution_count": 21,
     "metadata": {},
     "output_type": "execute_result"
    }
   ],
   "source": [
    "len(model.coef_)"
   ]
  },
  {
   "cell_type": "code",
   "execution_count": 22,
   "metadata": {},
   "outputs": [
    {
     "data": {
      "text/plain": [
       "(506, 14)"
      ]
     },
     "execution_count": 22,
     "metadata": {},
     "output_type": "execute_result"
    }
   ],
   "source": [
    "df.shape"
   ]
  },
  {
   "cell_type": "code",
   "execution_count": 19,
   "metadata": {},
   "outputs": [
    {
     "data": {
      "text/plain": [
       "np.float64(31.631084035692673)"
      ]
     },
     "execution_count": 19,
     "metadata": {},
     "output_type": "execute_result"
    }
   ],
   "source": [
    "model.intercept_"
   ]
  },
  {
   "cell_type": "code",
   "execution_count": null,
   "metadata": {},
   "outputs": [
    {
     "data": {
      "image/png": "[encoded data removed]",
      "text/plain": [
       "<Figure size 800x600 with 1 Axes>"
      ]
     },
     "metadata": {},
     "output_type": "display_data"
    }
   ],
   "source": [
    "# Plot actual vs predicted prices\n",
    "plt.figure(figsize=(8, 6))\n",
    "plt.scatter(y_test, y_pred, color='blue', alpha=0.6, label='Actual vs Predicted')\n",
    "plt.plot()\n",
    "plt.xlabel('Actual Prices')\n",
    "plt.ylabel('Predicted Prices')\n",
    "plt.title('Linear Regression - Boston Housing')\n",
    "plt.legend()\n",
    "plt.show()"
   ]
  },
  {
   "cell_type": "code",
   "execution_count": 14,
   "metadata": {},
   "outputs": [
    {
     "data": {
      "text/plain": [
       "21.51744423117729"
      ]
     },
     "execution_count": 14,
     "metadata": {},
     "output_type": "execute_result"
    }
   ],
   "source": [
    "mean_squared_error(y_test, y_pred)"
   ]
  },
  {
   "cell_type": "code",
   "execution_count": 15,
   "metadata": {},
   "outputs": [
    {
     "data": {
      "text/plain": [
       "0.7112260057484922"
      ]
     },
     "execution_count": 15,
     "metadata": {},
     "output_type": "execute_result"
    }
   ],
   "source": [
    "\n",
    "r2_score(y_test, y_pred)"
   ]
  },
  {
   "cell_type": "code",
   "execution_count": 16,
   "metadata": {},
   "outputs": [
    {
     "data": {
      "text/plain": [
       "0.7112260057484922"
      ]
     },
     "execution_count": 16,
     "metadata": {},
     "output_type": "execute_result"
    }
   ],
   "source": [
    "model.score(X_test, y_test)"
   ]
  },
  {
   "cell_type": "code",
   "execution_count": 17,
   "metadata": {},
   "outputs": [
    {
     "data": {
      "text/plain": [
       "506"
      ]
     },
     "execution_count": 17,
     "metadata": {},
     "output_type": "execute_result"
    }
   ],
   "source": [
    "len(df)"
   ]
  },
  {
   "cell_type": "code",
   "execution_count": null,
   "metadata": {},
   "outputs": [],
   "source": []
  }
 ],
 "metadata": {
  "kernelspec": {
   "display_name": "venv 9.57.52 PM",
   "language": "python",
   "name": "python3"
  },
  "language_info": {
   "codemirror_mode": {
    "name": "ipython",
    "version": 3
   },
   "file_extension": ".py",
   "mimetype": "text/x-python",
   "name": "python",
   "nbconvert_exporter": "python",
   "pygments_lexer": "ipython3",
   "version": "3.11.9"
  }
 },
 "nbformat": 4,
 "nbformat_minor": 2
}
